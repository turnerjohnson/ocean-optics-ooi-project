{
 "cells": [
  {
   "cell_type": "markdown",
   "id": "78c60b8f",
   "metadata": {},
   "source": [
    "# ERDDAP tutorial with erddap-python\n",
    "Using documentation from https://github.com/hmedrano/erddap-python"
   ]
  },
  {
   "cell_type": "code",
   "execution_count": 46,
   "id": "0b51ed65",
   "metadata": {},
   "outputs": [],
   "source": [
    "import numpy as np\n",
    "import pandas as pd \n",
    "import xarray as xr\n",
    "import netCDF4 as nc\n",
    "import datetime as dt\n",
    "\n",
    "# in terminal/console: conda install -c conda-forge erddap-python\n",
    "\n",
    "from matplotlib import pyplot as plt "
   ]
  },
  {
   "cell_type": "markdown",
   "id": "dbc875b8",
   "metadata": {},
   "source": [
    "On an ERDDAP server data can be stored in the form of TableDAP or GridDAP.\n",
    "\n",
    "From OOI erddap index page:\n",
    "\n",
    "\"Tabledap lets you use the OPeNDAP hyperslab (constraint/selection) protocol to request data subsets, graphs, and maps from tabular datasets (for example, buoy data).\n",
    "\n",
    "Griddap lets you use the OPeNDAP hyperslab protocol to request data subsets, graphs, and maps from gridded datasets (for example, satellite data and climate model data).\"\n",
    "\n",
    "All data on the OOI ERDDAP server is in TableDAP format.\n",
    "\n",
    "### Tabledap: \n",
    "- ERDDAP_Tabledap takes args for server url and dataset ID (found on server website page for dataset)\n",
    "- retrieves object of class ERDDAP_Tabledap, which contains all info on dataset\n",
    "- notably lists all data as 'Variables', as opposed to Griddap's 'Variables and Dimensions'\n",
    "\n"
   ]
  },
  {
   "cell_type": "code",
   "execution_count": 24,
   "id": "234d286a",
   "metadata": {
    "scrolled": true
   },
   "outputs": [
    {
     "name": "stdout",
     "output_type": "stream",
     "text": [
      "Datatype:  <class 'erddapClient.erddap_tabledap.ERDDAP_Tabledap'>\n",
      "<erddapClient.ERDDAP_Tabledap>\n",
      "Title:       Coastal Endurance: Oregon Inshore Surface Piercing Profiler Mooring: Surface Piercing Profiler: Spectral Irradiance\n",
      "Server URL:  http://erddap.dataexplorer.oceanobservatories.org/erddap\n",
      "Dataset ID:  ooi-ce01issp-sp001-07-spkirj000\n",
      "Variables: \n",
      "  time (double) \n",
      "    Standard name: time \n",
      "    Units:         seconds since 1970-01-01T00:00:00Z \n",
      "  latitude (double) \n",
      "    Standard name: latitude \n",
      "    Units:         degrees_north \n",
      "  longitude (double) \n",
      "    Standard name: longitude \n",
      "    Units:         degrees_east \n",
      "  z (double) \n",
      "    Standard name: altitude \n",
      "    Units:         m \n",
      "  spectir_412nm (double) \n",
      "    Standard name: spectir \n",
      "    Units:         microW.cm-2.nm-1 \n",
      "  spectir_412nm_qc_agg (int) \n",
      "    Standard name: aggregate_quality_flag \n",
      "  spectir_412nm_qc_tests (int) \n",
      "    Standard name: spectir quality_flag \n",
      "  spectir_443nm (double) \n",
      "    Standard name: spectir \n",
      "    Units:         microW.cm-2.nm-1 \n",
      "  spectir_443nm_qc_agg (int) \n",
      "    Standard name: aggregate_quality_flag \n",
      "  spectir_443nm_qc_tests (int) \n",
      "    Standard name: spectir quality_flag \n",
      "  spectir_490nm (double) \n",
      "    Standard name: spectir \n",
      "    Units:         microW.cm-2.nm-1 \n",
      "  spectir_490nm_qc_agg (int) \n",
      "    Standard name: aggregate_quality_flag \n",
      "  spectir_490nm_qc_tests (int) \n",
      "    Standard name: spectir quality_flag \n",
      "  spectir_510nm (double) \n",
      "    Standard name: spectir \n",
      "    Units:         microW.cm-2.nm-1 \n",
      "  spectir_510nm_qc_agg (int) \n",
      "    Standard name: aggregate_quality_flag \n",
      "  spectir_510nm_qc_tests (int) \n",
      "    Standard name: spectir quality_flag \n",
      "  spectir_555nm (double) \n",
      "    Standard name: spectir \n",
      "    Units:         microW.cm-2.nm-1 \n",
      "  spectir_555nm_qc_agg (int) \n",
      "    Standard name: aggregate_quality_flag \n",
      "  spectir_555nm_qc_tests (int) \n",
      "    Standard name: spectir quality_flag \n",
      "  spectir_620nm (double) \n",
      "    Standard name: spectir \n",
      "    Units:         microW.cm-2.nm-1 \n",
      "  spectir_620nm_qc_agg (int) \n",
      "    Standard name: aggregate_quality_flag \n",
      "  spectir_620nm_qc_tests (int) \n",
      "    Standard name: spectir quality_flag \n",
      "  spectir_683nm (double) \n",
      "    Standard name: spectir \n",
      "    Units:         microW.cm-2.nm-1 \n",
      "  spectir_683nm_qc_agg (int) \n",
      "    Standard name: aggregate_quality_flag \n",
      "  spectir_683nm_qc_tests (int) \n",
      "    Standard name: spectir quality_flag \n",
      "  sea_water_pressure_profiler_depth_enabled (double) \n",
      "    Standard name: sea_water_pressure \n",
      "    Units:         decibars \n",
      "  sea_water_pressure_profiler_depth_enabled_qc_agg (int) \n",
      "    Standard name: aggregate_quality_flag \n",
      "  sea_water_pressure_profiler_depth_enabled_qc_tests (int) \n",
      "    Standard name: sea_water_pressure quality_flag \n",
      "  station (String) \n"
     ]
    }
   ],
   "source": [
    "from erddapClient import ERDDAP_Tabledap \n",
    "\n",
    "remote_td = ERDDAP_Tabledap('http://erddap.dataexplorer.oceanobservatories.org/erddap','ooi-ce01issp-sp001-07-spkirj000')\n",
    "print(\"Datatype: \",type(remote_td))\n",
    "print(remote_td)"
   ]
  },
  {
   "cell_type": "markdown",
   "id": "6b05784b",
   "metadata": {},
   "source": [
    "This package has the capability of building data request URLs, the main way of tunneling into ERDDAP servers and retrieving data. This URL changes with requested variables, datatype (e.g. csv, html, netcdf), and several other constraints.\n",
    "\n",
    "Most of the time URL generation is not necessary, between erddap-python's ability to tunnel into ERDDAP servers without the user inputting a URL (rather inputting the components which build the URL), and a URL-building feature being available on ERDDAP server's dataset websites."
   ]
  },
  {
   "cell_type": "code",
   "execution_count": 25,
   "id": "2668fb03",
   "metadata": {
    "scrolled": true
   },
   "outputs": [
    {
     "data": {
      "text/plain": [
       "'http://erddap.dataexplorer.oceanobservatories.org/erddap/tabledap/ooi-ce01issp-sp001-07-spkirj000.htmlTable?time%2Cz'"
      ]
     },
     "execution_count": 25,
     "metadata": {},
     "output_type": "execute_result"
    }
   ],
   "source": [
    "remote_td.setResultVariables(['time','z'])\n",
    "remote_td.getURL('htmlTable')"
   ]
  },
  {
   "cell_type": "markdown",
   "id": "26328011",
   "metadata": {},
   "source": [
    "From an object of ERDDAP_Tabledap class we can request subset of its by setting object properties (.setResultVariable), adding variable constraints (.addConstraint), and/or setting datatype (.getData or .getDataFrame (pandas)).\n",
    "\n",
    "Variables of interest for this surface-piercing profiler set are: time, z, and a slew of irradiance at different wavelengths (spectir_412nm (violet), spectir_443nm (blue), spectir_490nm (cyan), spectir_510nm (green), spectir_555nm (yellow-green), spectir_620nm (orange), spectir_683nm (red)). \n",
    "\n",
    "Color approximations from https://pages.cs.wisc.edu/~yetkin/code/wavelength_to_rgb/wavelength.html."
   ]
  },
  {
   "cell_type": "code",
   "execution_count": 41,
   "id": "1182b45b",
   "metadata": {
    "scrolled": true
   },
   "outputs": [
    {
     "data": {
      "text/html": [
       "<div>\n",
       "<style scoped>\n",
       "    .dataframe tbody tr th:only-of-type {\n",
       "        vertical-align: middle;\n",
       "    }\n",
       "\n",
       "    .dataframe tbody tr th {\n",
       "        vertical-align: top;\n",
       "    }\n",
       "\n",
       "    .dataframe thead th {\n",
       "        text-align: right;\n",
       "    }\n",
       "</style>\n",
       "<table border=\"1\" class=\"dataframe\">\n",
       "  <thead>\n",
       "    <tr style=\"text-align: right;\">\n",
       "      <th></th>\n",
       "      <th>time (UTC)</th>\n",
       "      <th>z (m)</th>\n",
       "      <th>spectir_412nm (microW.cm-2.nm-1)</th>\n",
       "      <th>spectir_443nm (microW.cm-2.nm-1)</th>\n",
       "      <th>spectir_490nm (microW.cm-2.nm-1)</th>\n",
       "      <th>spectir_510nm (microW.cm-2.nm-1)</th>\n",
       "      <th>spectir_555nm (microW.cm-2.nm-1)</th>\n",
       "      <th>spectir_620nm (microW.cm-2.nm-1)</th>\n",
       "      <th>spectir_683nm (microW.cm-2.nm-1)</th>\n",
       "    </tr>\n",
       "  </thead>\n",
       "  <tbody>\n",
       "    <tr>\n",
       "      <th>0</th>\n",
       "      <td>2014-04-17T22:28:00Z</td>\n",
       "      <td>-20.0</td>\n",
       "      <td>0.030614</td>\n",
       "      <td>0.023073</td>\n",
       "      <td>0.139625</td>\n",
       "      <td>0.220813</td>\n",
       "      <td>0.442157</td>\n",
       "      <td>-0.002197</td>\n",
       "      <td>0.005706</td>\n",
       "    </tr>\n",
       "    <tr>\n",
       "      <th>1</th>\n",
       "      <td>2014-04-17T22:28:00Z</td>\n",
       "      <td>-19.0</td>\n",
       "      <td>0.037231</td>\n",
       "      <td>0.030066</td>\n",
       "      <td>0.171555</td>\n",
       "      <td>0.269376</td>\n",
       "      <td>0.528362</td>\n",
       "      <td>-0.000152</td>\n",
       "      <td>0.006310</td>\n",
       "    </tr>\n",
       "    <tr>\n",
       "      <th>2</th>\n",
       "      <td>2014-04-17T22:28:00Z</td>\n",
       "      <td>-18.0</td>\n",
       "      <td>0.048694</td>\n",
       "      <td>0.042189</td>\n",
       "      <td>0.218303</td>\n",
       "      <td>0.344181</td>\n",
       "      <td>0.669369</td>\n",
       "      <td>0.004723</td>\n",
       "      <td>0.007052</td>\n",
       "    </tr>\n",
       "    <tr>\n",
       "      <th>3</th>\n",
       "      <td>2014-04-17T22:28:00Z</td>\n",
       "      <td>-17.0</td>\n",
       "      <td>0.057129</td>\n",
       "      <td>0.050411</td>\n",
       "      <td>0.250974</td>\n",
       "      <td>0.395703</td>\n",
       "      <td>0.766718</td>\n",
       "      <td>0.007724</td>\n",
       "      <td>0.007074</td>\n",
       "    </tr>\n",
       "    <tr>\n",
       "      <th>4</th>\n",
       "      <td>2014-04-17T22:28:00Z</td>\n",
       "      <td>-16.0</td>\n",
       "      <td>0.065813</td>\n",
       "      <td>0.059395</td>\n",
       "      <td>0.283560</td>\n",
       "      <td>0.446932</td>\n",
       "      <td>0.865479</td>\n",
       "      <td>0.013464</td>\n",
       "      <td>0.007337</td>\n",
       "    </tr>\n",
       "    <tr>\n",
       "      <th>...</th>\n",
       "      <td>...</td>\n",
       "      <td>...</td>\n",
       "      <td>...</td>\n",
       "      <td>...</td>\n",
       "      <td>...</td>\n",
       "      <td>...</td>\n",
       "      <td>...</td>\n",
       "      <td>...</td>\n",
       "      <td>...</td>\n",
       "    </tr>\n",
       "    <tr>\n",
       "      <th>49938</th>\n",
       "      <td>2022-09-27T07:53:00Z</td>\n",
       "      <td>-5.0</td>\n",
       "      <td>0.010989</td>\n",
       "      <td>-0.002785</td>\n",
       "      <td>0.010997</td>\n",
       "      <td>0.007728</td>\n",
       "      <td>-0.006375</td>\n",
       "      <td>-0.005846</td>\n",
       "      <td>0.008078</td>\n",
       "    </tr>\n",
       "    <tr>\n",
       "      <th>49939</th>\n",
       "      <td>2022-09-27T07:53:00Z</td>\n",
       "      <td>-4.0</td>\n",
       "      <td>0.010630</td>\n",
       "      <td>-0.002738</td>\n",
       "      <td>0.010916</td>\n",
       "      <td>0.007805</td>\n",
       "      <td>-0.006242</td>\n",
       "      <td>-0.005502</td>\n",
       "      <td>0.007749</td>\n",
       "    </tr>\n",
       "    <tr>\n",
       "      <th>49940</th>\n",
       "      <td>2022-09-27T07:53:00Z</td>\n",
       "      <td>-3.0</td>\n",
       "      <td>0.010466</td>\n",
       "      <td>-0.002522</td>\n",
       "      <td>0.010447</td>\n",
       "      <td>0.007654</td>\n",
       "      <td>-0.007148</td>\n",
       "      <td>-0.005562</td>\n",
       "      <td>0.007265</td>\n",
       "    </tr>\n",
       "    <tr>\n",
       "      <th>49941</th>\n",
       "      <td>2022-09-27T07:53:00Z</td>\n",
       "      <td>-2.0</td>\n",
       "      <td>0.010201</td>\n",
       "      <td>-0.002446</td>\n",
       "      <td>0.010259</td>\n",
       "      <td>0.007780</td>\n",
       "      <td>-0.006556</td>\n",
       "      <td>-0.005270</td>\n",
       "      <td>0.006446</td>\n",
       "    </tr>\n",
       "    <tr>\n",
       "      <th>49942</th>\n",
       "      <td>2022-09-27T07:53:00Z</td>\n",
       "      <td>-1.0</td>\n",
       "      <td>0.010906</td>\n",
       "      <td>-0.002337</td>\n",
       "      <td>0.010744</td>\n",
       "      <td>0.008802</td>\n",
       "      <td>-0.006137</td>\n",
       "      <td>-0.005336</td>\n",
       "      <td>0.005877</td>\n",
       "    </tr>\n",
       "  </tbody>\n",
       "</table>\n",
       "<p>49943 rows × 9 columns</p>\n",
       "</div>"
      ],
      "text/plain": [
       "                 time (UTC)  z (m)  spectir_412nm (microW.cm-2.nm-1)  \\\n",
       "0      2014-04-17T22:28:00Z  -20.0                          0.030614   \n",
       "1      2014-04-17T22:28:00Z  -19.0                          0.037231   \n",
       "2      2014-04-17T22:28:00Z  -18.0                          0.048694   \n",
       "3      2014-04-17T22:28:00Z  -17.0                          0.057129   \n",
       "4      2014-04-17T22:28:00Z  -16.0                          0.065813   \n",
       "...                     ...    ...                               ...   \n",
       "49938  2022-09-27T07:53:00Z   -5.0                          0.010989   \n",
       "49939  2022-09-27T07:53:00Z   -4.0                          0.010630   \n",
       "49940  2022-09-27T07:53:00Z   -3.0                          0.010466   \n",
       "49941  2022-09-27T07:53:00Z   -2.0                          0.010201   \n",
       "49942  2022-09-27T07:53:00Z   -1.0                          0.010906   \n",
       "\n",
       "       spectir_443nm (microW.cm-2.nm-1)  spectir_490nm (microW.cm-2.nm-1)  \\\n",
       "0                              0.023073                          0.139625   \n",
       "1                              0.030066                          0.171555   \n",
       "2                              0.042189                          0.218303   \n",
       "3                              0.050411                          0.250974   \n",
       "4                              0.059395                          0.283560   \n",
       "...                                 ...                               ...   \n",
       "49938                         -0.002785                          0.010997   \n",
       "49939                         -0.002738                          0.010916   \n",
       "49940                         -0.002522                          0.010447   \n",
       "49941                         -0.002446                          0.010259   \n",
       "49942                         -0.002337                          0.010744   \n",
       "\n",
       "       spectir_510nm (microW.cm-2.nm-1)  spectir_555nm (microW.cm-2.nm-1)  \\\n",
       "0                              0.220813                          0.442157   \n",
       "1                              0.269376                          0.528362   \n",
       "2                              0.344181                          0.669369   \n",
       "3                              0.395703                          0.766718   \n",
       "4                              0.446932                          0.865479   \n",
       "...                                 ...                               ...   \n",
       "49938                          0.007728                         -0.006375   \n",
       "49939                          0.007805                         -0.006242   \n",
       "49940                          0.007654                         -0.007148   \n",
       "49941                          0.007780                         -0.006556   \n",
       "49942                          0.008802                         -0.006137   \n",
       "\n",
       "       spectir_620nm (microW.cm-2.nm-1)  spectir_683nm (microW.cm-2.nm-1)  \n",
       "0                             -0.002197                          0.005706  \n",
       "1                             -0.000152                          0.006310  \n",
       "2                              0.004723                          0.007052  \n",
       "3                              0.007724                          0.007074  \n",
       "4                              0.013464                          0.007337  \n",
       "...                                 ...                               ...  \n",
       "49938                         -0.005846                          0.008078  \n",
       "49939                         -0.005502                          0.007749  \n",
       "49940                         -0.005562                          0.007265  \n",
       "49941                         -0.005270                          0.006446  \n",
       "49942                         -0.005336                          0.005877  \n",
       "\n",
       "[49943 rows x 9 columns]"
      ]
     },
     "execution_count": 41,
     "metadata": {},
     "output_type": "execute_result"
    }
   ],
   "source": [
    "remote_td.clearQuery()\n",
    "responseDf = (\n",
    "    remote_td.setResultVariables(['time','z','spectir_412nm','spectir_443nm','spectir_490nm','spectir_510nm','spectir_555nm','spectir_620nm', 'spectir_683nm'])\n",
    "            .getDataFrame()\n",
    ")\n",
    "responseDf"
   ]
  },
  {
   "cell_type": "markdown",
   "id": "33ac4bbc",
   "metadata": {},
   "source": [
    "This dataframe can now be treated as any pandas dataframe."
   ]
  },
  {
   "cell_type": "code",
   "execution_count": 65,
   "id": "bbc3744a",
   "metadata": {
    "scrolled": true
   },
   "outputs": [
    {
     "data": {
      "image/png": "[encoded data removed]",
      "text/plain": [
       "<Figure size 1200x600 with 1 Axes>"
      ]
     },
     "metadata": {
      "needs_background": "light"
     },
     "output_type": "display_data"
    }
   ],
   "source": [
    "plt.figure(figsize=(12,6), dpi=100)\n",
    "#responseDf['z (m)'].plot(label='z (m)', color='orange')\n",
    "responseDf['spectir_412nm (microW.cm-2.nm-1)'].plot(label='412nm', color='purple')\n",
    "responseDf['spectir_443nm (microW.cm-2.nm-1)'].plot(label='443nm', color='blue')\n",
    "responseDf['spectir_490nm (microW.cm-2.nm-1)'].plot(label='490nm', color='cyan')\n",
    "responseDf['spectir_510nm (microW.cm-2.nm-1)'].plot(label='510nm', color='green')\n",
    "responseDf['spectir_555nm (microW.cm-2.nm-1)'].plot(label='555nm', color='yellow')\n",
    "responseDf['spectir_620nm (microW.cm-2.nm-1)'].plot(label='620nm', color='orange')\n",
    "responseDf['spectir_683nm (microW.cm-2.nm-1)'].plot(label='683nm', color='red')\n",
    "\n",
    "plt.title('Stacked Spectral Irradiance for 7 vis wavelengths by ? x ax')\n",
    "plt.xlabel(\"days?\")\n",
    "plt.ylabel(\"microW.cm^2.nm^-1\")\n",
    "plt.legend()\n",
    "plt.savefig(\"spec_irr_mysterious_xaxis.jpg\")"
   ]
  },
  {
   "cell_type": "markdown",
   "id": "01f468a1",
   "metadata": {},
   "source": [
    "Can spectral irradiance be negative? Certainly the c. -550 number is the instrument throwing an error."
   ]
  },
  {
   "cell_type": "code",
   "execution_count": 69,
   "id": "7ea50083",
   "metadata": {},
   "outputs": [
    {
     "name": "stdout",
     "output_type": "stream",
     "text": [
      "yellow min:  -603.989492929\n",
      "green min:  -571.3604449689\n"
     ]
    }
   ],
   "source": [
    "print(\"yellow min: \", responseDf[('spectir_555nm (microW.cm-2.nm-1)')].min())\n",
    "print(\"green min: \", responseDf[('spectir_510nm (microW.cm-2.nm-1)')].min())"
   ]
  }
 ],
 "metadata": {
  "kernelspec": {
   "display_name": "Python 3",
   "language": "python",
   "name": "python3"
  },
  "language_info": {
   "codemirror_mode": {
    "name": "ipython",
    "version": 3
   },
   "file_extension": ".py",
   "mimetype": "text/x-python",
   "name": "python",
   "nbconvert_exporter": "python",
   "pygments_lexer": "ipython3",
   "version": "3.8.8"
  }
 },
 "nbformat": 4,
 "nbformat_minor": 5
}
