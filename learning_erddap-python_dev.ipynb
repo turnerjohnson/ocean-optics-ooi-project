{
 "cells": [
  {
   "cell_type": "code",
   "execution_count": 2,
   "id": "00b72f8e",
   "metadata": {},
   "outputs": [],
   "source": [
    "import numpy as np\n",
    "import pandas as pd \n",
    "import xarray as xr\n",
    "import netCDF4 as nc\n",
    "# in terminal/console enter:\n",
    "# conda install -c conda-forge erddap-python\n",
    "from erddapClient import ERDDAP_Server\n",
    "import time #measuring response time / dev\n",
    "import urllib.request #for building request urls\n",
    "\n",
    "#tutorial from https://k-rns.github.io/workshop_data_reuse/03_dataset_locally_api/index.html\n",
    "#https://github.com/oceanwatch/python-satellite-course/blob/master/OW_tutorial2.ipynb\n",
    "#https://github.com/hmedrano/erddap-python\n",
    "\n",
    "#for plotting 2023-01-17\n",
    "from matplotlib import pyplot as plt \n",
    "from matplotlib.colors import LinearSegmentedColormap \n",
    "\n",
    "#for converting obj cols to datetime cols \n",
    "import datetime as dt\n",
    "\n",
    "#learning more abt erddapClient from erddap-python\n",
    "from erddapClient import ERDDAP_Tabledap"
   ]
  },
  {
   "cell_type": "code",
   "execution_count": 3,
   "id": "0b60c430",
   "metadata": {},
   "outputs": [
    {
     "name": "stdout",
     "output_type": "stream",
     "text": [
      "<erddapClient.ERDDAP_Server>\n",
      "Server version:  ERDDAP_version=2.02\n",
      "response time is: 0.6538895529999991\n"
     ]
    }
   ],
   "source": [
    "start = time.perf_counter()\n",
    "remoteServer1 = ERDDAP_Server('https://coastwatch.pfeg.noaa.gov/erddap')\n",
    "remoteServer = ERDDAP_Server('https://erddap.dataexplorer.oceanobservatories.org/erddap/')\n",
    "print(remoteServer)\n",
    "request_time = time.perf_counter() - start\n",
    "#something seems to stall here and it only prints Server version when I abort run\n",
    "print(\"response time is:\",request_time)\n",
    "#taking between 0.001s and 75s for coastalwatch... something hinky\n",
    "#for ooi it is ok"
   ]
  },
  {
   "cell_type": "code",
   "execution_count": 4,
   "id": "acb586e8",
   "metadata": {},
   "outputs": [
    {
     "ename": "IndexError",
     "evalue": "list index out of range",
     "output_type": "error",
     "traceback": [
      "\u001b[0;31m---------------------------------------------------------------------------\u001b[0m",
      "\u001b[0;31mIndexError\u001b[0m                                Traceback (most recent call last)",
      "\u001b[0;32m<ipython-input-4-684870fc9c92>\u001b[0m in \u001b[0;36m<module>\u001b[0;34m\u001b[0m\n\u001b[1;32m      1\u001b[0m \u001b[0mstart\u001b[0m \u001b[0;34m=\u001b[0m \u001b[0mtime\u001b[0m\u001b[0;34m.\u001b[0m\u001b[0mperf_counter\u001b[0m\u001b[0;34m(\u001b[0m\u001b[0;34m)\u001b[0m\u001b[0;34m\u001b[0m\u001b[0;34m\u001b[0m\u001b[0m\n\u001b[1;32m      2\u001b[0m \u001b[0msearchRequest1\u001b[0m \u001b[0;34m=\u001b[0m \u001b[0mremoteServer1\u001b[0m\u001b[0;34m.\u001b[0m\u001b[0msearch\u001b[0m\u001b[0;34m(\u001b[0m\u001b[0msearchFor\u001b[0m\u001b[0;34m=\u001b[0m\u001b[0;34m\"gliders\"\u001b[0m\u001b[0;34m)\u001b[0m\u001b[0;34m\u001b[0m\u001b[0;34m\u001b[0m\u001b[0m\n\u001b[0;32m----> 3\u001b[0;31m \u001b[0msearchRequest\u001b[0m \u001b[0;34m=\u001b[0m \u001b[0mremoteServer\u001b[0m\u001b[0;34m.\u001b[0m\u001b[0msearch\u001b[0m\u001b[0;34m(\u001b[0m\u001b[0msearchFor\u001b[0m\u001b[0;34m=\u001b[0m\u001b[0;34m\"ooi\"\u001b[0m\u001b[0;34m)\u001b[0m\u001b[0;34m\u001b[0m\u001b[0;34m\u001b[0m\u001b[0m\n\u001b[0m\u001b[1;32m      4\u001b[0m \u001b[0;31m#search attribute/method doesn't seem to work for ooi erddap\u001b[0m\u001b[0;34m\u001b[0m\u001b[0;34m\u001b[0m\u001b[0;34m\u001b[0m\u001b[0m\n\u001b[1;32m      5\u001b[0m \u001b[0;34m\u001b[0m\u001b[0m\n",
      "\u001b[0;32m/Applications/anaconda3/lib/python3.8/site-packages/erddapClient/erddap_server.py\u001b[0m in \u001b[0;36msearch\u001b[0;34m(self, **filters)\u001b[0m\n\u001b[1;32m    124\u001b[0m         \u001b[0mrawSearchResults\u001b[0m \u001b[0;34m=\u001b[0m \u001b[0murlread\u001b[0m\u001b[0;34m(\u001b[0m\u001b[0msearchURL\u001b[0m\u001b[0;34m,\u001b[0m \u001b[0mself\u001b[0m\u001b[0;34m.\u001b[0m\u001b[0mauth\u001b[0m\u001b[0;34m)\u001b[0m\u001b[0;34m\u001b[0m\u001b[0;34m\u001b[0m\u001b[0m\n\u001b[1;32m    125\u001b[0m         \u001b[0mdictSearchResult\u001b[0m \u001b[0;34m=\u001b[0m \u001b[0mrawSearchResults\u001b[0m\u001b[0;34m.\u001b[0m\u001b[0mjson\u001b[0m\u001b[0;34m(\u001b[0m\u001b[0;34m)\u001b[0m\u001b[0;34m\u001b[0m\u001b[0;34m\u001b[0m\u001b[0m\n\u001b[0;32m--> 126\u001b[0;31m         \u001b[0mformatedResults\u001b[0m \u001b[0;34m=\u001b[0m \u001b[0mERDDAP_SearchResults\u001b[0m\u001b[0;34m(\u001b[0m\u001b[0mself\u001b[0m\u001b[0;34m.\u001b[0m\u001b[0mserverURL\u001b[0m\u001b[0;34m,\u001b[0m \u001b[0mdictSearchResult\u001b[0m\u001b[0;34m[\u001b[0m\u001b[0;34m'table'\u001b[0m\u001b[0;34m]\u001b[0m\u001b[0;34m[\u001b[0m\u001b[0;34m'rows'\u001b[0m\u001b[0;34m]\u001b[0m\u001b[0;34m)\u001b[0m\u001b[0;34m\u001b[0m\u001b[0;34m\u001b[0m\u001b[0m\n\u001b[0m\u001b[1;32m    127\u001b[0m \u001b[0;34m\u001b[0m\u001b[0m\n\u001b[1;32m    128\u001b[0m         \u001b[0;32mreturn\u001b[0m \u001b[0mformatedResults\u001b[0m\u001b[0;34m\u001b[0m\u001b[0;34m\u001b[0m\u001b[0m\n",
      "\u001b[0;32m/Applications/anaconda3/lib/python3.8/site-packages/erddapClient/erddap_server.py\u001b[0m in \u001b[0;36m__init__\u001b[0;34m(self, url, erddapSearchRows, auth, lazyload)\u001b[0m\n\u001b[1;32m    488\u001b[0m     \u001b[0;32mdef\u001b[0m \u001b[0m__init__\u001b[0m\u001b[0;34m(\u001b[0m\u001b[0mself\u001b[0m\u001b[0;34m,\u001b[0m \u001b[0murl\u001b[0m\u001b[0;34m,\u001b[0m \u001b[0merddapSearchRows\u001b[0m\u001b[0;34m,\u001b[0m \u001b[0mauth\u001b[0m\u001b[0;34m=\u001b[0m\u001b[0;32mNone\u001b[0m\u001b[0;34m,\u001b[0m \u001b[0mlazyload\u001b[0m\u001b[0;34m=\u001b[0m\u001b[0;32mTrue\u001b[0m\u001b[0;34m)\u001b[0m\u001b[0;34m:\u001b[0m\u001b[0;34m\u001b[0m\u001b[0;34m\u001b[0m\u001b[0m\n\u001b[1;32m    489\u001b[0m         \u001b[0;32mfor\u001b[0m \u001b[0merddapSearchRow\u001b[0m \u001b[0;32min\u001b[0m \u001b[0merddapSearchRows\u001b[0m\u001b[0;34m:\u001b[0m\u001b[0;34m\u001b[0m\u001b[0;34m\u001b[0m\u001b[0m\n\u001b[0;32m--> 490\u001b[0;31m             \u001b[0mself\u001b[0m\u001b[0;34m.\u001b[0m\u001b[0mappend\u001b[0m\u001b[0;34m(\u001b[0m\u001b[0mERDDAP_SearchResult\u001b[0m\u001b[0;34m(\u001b[0m\u001b[0murl\u001b[0m\u001b[0;34m,\u001b[0m \u001b[0merddapSearchRow\u001b[0m\u001b[0;34m,\u001b[0m \u001b[0mauth\u001b[0m\u001b[0;34m=\u001b[0m\u001b[0mauth\u001b[0m\u001b[0;34m,\u001b[0m \u001b[0mlazyload\u001b[0m\u001b[0;34m=\u001b[0m\u001b[0mlazyload\u001b[0m\u001b[0;34m)\u001b[0m\u001b[0;34m)\u001b[0m\u001b[0;34m\u001b[0m\u001b[0;34m\u001b[0m\u001b[0m\n\u001b[0m\u001b[1;32m    491\u001b[0m \u001b[0;34m\u001b[0m\u001b[0m\n\u001b[1;32m    492\u001b[0m     \u001b[0;32mdef\u001b[0m \u001b[0m__repr__\u001b[0m\u001b[0;34m(\u001b[0m\u001b[0mself\u001b[0m\u001b[0;34m)\u001b[0m\u001b[0;34m:\u001b[0m\u001b[0;34m\u001b[0m\u001b[0;34m\u001b[0m\u001b[0m\n",
      "\u001b[0;32m/Applications/anaconda3/lib/python3.8/site-packages/erddapClient/erddap_server.py\u001b[0m in \u001b[0;36m__init__\u001b[0;34m(self, url, erddapSearchResultRow, auth, lazyload)\u001b[0m\n\u001b[1;32m    472\u001b[0m     \u001b[0;32mdef\u001b[0m \u001b[0m__init__\u001b[0m\u001b[0;34m(\u001b[0m\u001b[0mself\u001b[0m\u001b[0;34m,\u001b[0m \u001b[0murl\u001b[0m\u001b[0;34m,\u001b[0m \u001b[0merddapSearchResultRow\u001b[0m\u001b[0;34m,\u001b[0m \u001b[0mauth\u001b[0m\u001b[0;34m=\u001b[0m\u001b[0;32mNone\u001b[0m\u001b[0;34m,\u001b[0m \u001b[0mlazyload\u001b[0m\u001b[0;34m=\u001b[0m\u001b[0;32mTrue\u001b[0m\u001b[0;34m)\u001b[0m\u001b[0;34m:\u001b[0m\u001b[0;34m\u001b[0m\u001b[0;34m\u001b[0m\u001b[0m\n\u001b[1;32m    473\u001b[0m         \u001b[0mself\u001b[0m\u001b[0;34m.\u001b[0m\u001b[0mdatasetid\u001b[0m\u001b[0;34m,\u001b[0m \u001b[0mself\u001b[0m\u001b[0;34m.\u001b[0m\u001b[0mtitle\u001b[0m\u001b[0;34m,\u001b[0m \u001b[0mself\u001b[0m\u001b[0;34m.\u001b[0m\u001b[0msummary\u001b[0m \u001b[0;34m=\u001b[0m\u001b[0;31m \u001b[0m\u001b[0;31m\\\u001b[0m\u001b[0;34m\u001b[0m\u001b[0;34m\u001b[0m\u001b[0m\n\u001b[0;32m--> 474\u001b[0;31m             \u001b[0merddapSearchResultRow\u001b[0m\u001b[0;34m[\u001b[0m\u001b[0mERDDAP_Search_Results_Rows\u001b[0m\u001b[0;34m.\u001b[0m\u001b[0mDATASETID\u001b[0m\u001b[0;34m]\u001b[0m\u001b[0;34m,\u001b[0m\u001b[0;31m \u001b[0m\u001b[0;31m\\\u001b[0m\u001b[0;34m\u001b[0m\u001b[0;34m\u001b[0m\u001b[0m\n\u001b[0m\u001b[1;32m    475\u001b[0m             \u001b[0merddapSearchResultRow\u001b[0m\u001b[0;34m[\u001b[0m\u001b[0mERDDAP_Search_Results_Rows\u001b[0m\u001b[0;34m.\u001b[0m\u001b[0mTITLE\u001b[0m\u001b[0;34m]\u001b[0m\u001b[0;34m,\u001b[0m\u001b[0;31m \u001b[0m\u001b[0;31m\\\u001b[0m\u001b[0;34m\u001b[0m\u001b[0;34m\u001b[0m\u001b[0m\n\u001b[1;32m    476\u001b[0m             \u001b[0merddapSearchResultRow\u001b[0m\u001b[0;34m[\u001b[0m\u001b[0mERDDAP_Search_Results_Rows\u001b[0m\u001b[0;34m.\u001b[0m\u001b[0mSUMMARY\u001b[0m\u001b[0;34m]\u001b[0m\u001b[0;34m\u001b[0m\u001b[0;34m\u001b[0m\u001b[0m\n",
      "\u001b[0;31mIndexError\u001b[0m: list index out of range"
     ]
    }
   ],
   "source": [
    "start = time.perf_counter()\n",
    "searchRequest1 = remoteServer1.search(searchFor=\"gliders\")\n",
    "searchRequest = remoteServer.search(searchFor=\"ooi\") \n",
    "#search attribute/method doesn't seem to work for ooi erddap\n",
    "\n",
    "request_time = time.perf_counter() - start\n",
    "print(searchRequest)\n",
    "print(\"response time is:\",request_time)\n",
    "#ok timing is not an issue?"
   ]
  },
  {
   "cell_type": "code",
   "execution_count": 29,
   "id": "2ea4b92a",
   "metadata": {},
   "outputs": [],
   "source": [
    "#building URL function? rerddap has this\n",
    "#base_url = \"\""
   ]
  },
  {
   "cell_type": "code",
   "execution_count": 5,
   "id": "96c6dbbe",
   "metadata": {
    "scrolled": true
   },
   "outputs": [
    {
     "data": {
      "text/plain": [
       "('test_erddap_retrieval.csv', <http.client.HTTPMessage at 0x7fc0344ca8e0>)"
      ]
     },
     "execution_count": 5,
     "metadata": {},
     "output_type": "execute_result"
    }
   ],
   "source": [
    "save_as = \"test_erddap_retrieval.csv\"\n",
    "download_url = \"http://erddap.dataexplorer.oceanobservatories.org/erddap/tabledap/ooi-ce01issp-sp001-07-spkirj000.csv?time%2Cz%2Cspectir_412nm%2Cspectir_443nm%2Cspectir_490nm%2Cspectir_510nm%2Cspectir_555nm&time%3E=2022-09-24T07%3A53%3A00Z\"\n",
    "urllib.request.urlretrieve(download_url, save_as)"
   ]
  },
  {
   "cell_type": "code",
   "execution_count": 6,
   "id": "1f0f0e6b",
   "metadata": {
    "scrolled": false
   },
   "outputs": [
    {
     "data": {
      "text/plain": [
       "Index(['time', 'z', 'spectir_412nm', 'spectir_443nm', 'spectir_490nm',\n",
       "       'spectir_510nm', 'spectir_555nm'],\n",
       "      dtype='object')"
      ]
     },
     "execution_count": 6,
     "metadata": {},
     "output_type": "execute_result"
    }
   ],
   "source": [
    "pd.read_csv(\"test_erddap_retrieval.csv\")\n",
    "\n",
    "testdf = pd.read_csv (\"test_erddap_retrieval.csv\", dtype='unicode') #,parse_dates=True ,header=[0,1]\n",
    "#ideally this read_csv would include arg header = [0,1] but that messes up plotting (too much metadata?)\n",
    "testdf.columns\n",
    "#testdf[\"time\"]\n",
    "#print(testdf.dtypes)\n"
   ]
  },
  {
   "cell_type": "code",
   "execution_count": 7,
   "id": "8d9dada2",
   "metadata": {
    "scrolled": true
   },
   "outputs": [
    {
     "name": "stdout",
     "output_type": "stream",
     "text": [
      "time col is dtype: object\n",
      "2022-09-24 19:48:00 <class 'datetime.datetime'>\n"
     ]
    }
   ],
   "source": [
    "#THIS CELL IS IRRELEVANT\n",
    "\n",
    "#changing 'time' col from object to datetime\n",
    "#with pd.read_csv arg header=[0,1]\n",
    "testdf['time'].astype(str)\n",
    "#testdf['time2'] = pd.to_datetime(testdf['time']) \n",
    "#print(testdf.iloc[0])\n",
    "#print(testdf.dtypes)\n",
    "testdfcol = dt.datetime.strptime(\"2022-09-24T19:48:00Z\",\"%Y-%m-%dT%H:%M:%SZ\")\n",
    "testdfcol2 = dt.datetime.strptime(str(testdf['time'].iloc[1]),\"%Y-%m-%dT%H:%M:%SZ\")\n",
    "\n",
    "print(\"time col is dtype:\",testdf['time'].dtypes)\n",
    "print(testdfcol2, type(testdfcol2))"
   ]
  },
  {
   "cell_type": "code",
   "execution_count": 139,
   "id": "b861716b",
   "metadata": {
    "scrolled": true
   },
   "outputs": [
    {
     "data": {
      "text/html": [
       "<div>\n",
       "<style scoped>\n",
       "    .dataframe tbody tr th:only-of-type {\n",
       "        vertical-align: middle;\n",
       "    }\n",
       "\n",
       "    .dataframe tbody tr th {\n",
       "        vertical-align: top;\n",
       "    }\n",
       "\n",
       "    .dataframe thead th {\n",
       "        text-align: right;\n",
       "    }\n",
       "</style>\n",
       "<table border=\"1\" class=\"dataframe\">\n",
       "  <thead>\n",
       "    <tr style=\"text-align: right;\">\n",
       "      <th></th>\n",
       "      <th>time</th>\n",
       "      <th>z</th>\n",
       "      <th>spectir_412nm</th>\n",
       "      <th>spectir_443nm</th>\n",
       "      <th>spectir_490nm</th>\n",
       "      <th>spectir_510nm</th>\n",
       "      <th>spectir_555nm</th>\n",
       "    </tr>\n",
       "  </thead>\n",
       "  <tbody>\n",
       "    <tr>\n",
       "      <th>1</th>\n",
       "      <td>2022-09-24T19:48:00Z</td>\n",
       "      <td>-20.0</td>\n",
       "      <td>0.0101908807</td>\n",
       "      <td>-0.0025727758</td>\n",
       "      <td>0.0098438424</td>\n",
       "      <td>0.01055782</td>\n",
       "      <td>0.0105658025</td>\n",
       "    </tr>\n",
       "    <tr>\n",
       "      <th>2</th>\n",
       "      <td>2022-09-24T19:49:00Z</td>\n",
       "      <td>-20.0</td>\n",
       "      <td>0.0110217111</td>\n",
       "      <td>-0.0024225046</td>\n",
       "      <td>0.0095202022</td>\n",
       "      <td>0.0107170864</td>\n",
       "      <td>0.0132538303</td>\n",
       "    </tr>\n",
       "    <tr>\n",
       "      <th>3</th>\n",
       "      <td>2022-09-24T19:49:00Z</td>\n",
       "      <td>-19.0</td>\n",
       "      <td>0.0107561938</td>\n",
       "      <td>-0.0019058382</td>\n",
       "      <td>0.0109337775</td>\n",
       "      <td>0.0102653392</td>\n",
       "      <td>0.0173130681</td>\n",
       "    </tr>\n",
       "    <tr>\n",
       "      <th>4</th>\n",
       "      <td>2022-09-24T19:49:00Z</td>\n",
       "      <td>-18.0</td>\n",
       "      <td>0.01015056</td>\n",
       "      <td>-9.782131E-4</td>\n",
       "      <td>0.0106998298</td>\n",
       "      <td>0.0116734288</td>\n",
       "      <td>0.0241834617</td>\n",
       "    </tr>\n",
       "    <tr>\n",
       "      <th>5</th>\n",
       "      <td>2022-09-24T19:49:00Z</td>\n",
       "      <td>-17.0</td>\n",
       "      <td>0.010153518</td>\n",
       "      <td>-0.0013806467</td>\n",
       "      <td>0.0110340758</td>\n",
       "      <td>0.0134186811</td>\n",
       "      <td>0.0360242548</td>\n",
       "    </tr>\n",
       "    <tr>\n",
       "      <th>...</th>\n",
       "      <td>...</td>\n",
       "      <td>...</td>\n",
       "      <td>...</td>\n",
       "      <td>...</td>\n",
       "      <td>...</td>\n",
       "      <td>...</td>\n",
       "      <td>...</td>\n",
       "    </tr>\n",
       "    <tr>\n",
       "      <th>61</th>\n",
       "      <td>2022-09-27T07:53:00Z</td>\n",
       "      <td>-5.0</td>\n",
       "      <td>0.0109890935</td>\n",
       "      <td>-0.0027848665</td>\n",
       "      <td>0.0109971116</td>\n",
       "      <td>0.0077280552</td>\n",
       "      <td>-0.0063751821</td>\n",
       "    </tr>\n",
       "    <tr>\n",
       "      <th>62</th>\n",
       "      <td>2022-09-27T07:53:00Z</td>\n",
       "      <td>-4.0</td>\n",
       "      <td>0.0106302893</td>\n",
       "      <td>-0.0027379761</td>\n",
       "      <td>0.0109159642</td>\n",
       "      <td>0.0078050457</td>\n",
       "      <td>-0.00624226</td>\n",
       "    </tr>\n",
       "    <tr>\n",
       "      <th>63</th>\n",
       "      <td>2022-09-27T07:53:00Z</td>\n",
       "      <td>-3.0</td>\n",
       "      <td>0.010466492</td>\n",
       "      <td>-0.0025219919</td>\n",
       "      <td>0.0104474309</td>\n",
       "      <td>0.007653692</td>\n",
       "      <td>-0.0071475097</td>\n",
       "    </tr>\n",
       "    <tr>\n",
       "      <th>64</th>\n",
       "      <td>2022-09-27T07:53:00Z</td>\n",
       "      <td>-2.0</td>\n",
       "      <td>0.0102009981</td>\n",
       "      <td>-0.0024456031</td>\n",
       "      <td>0.0102589015</td>\n",
       "      <td>0.0077795183</td>\n",
       "      <td>-0.0065561451</td>\n",
       "    </tr>\n",
       "    <tr>\n",
       "      <th>65</th>\n",
       "      <td>2022-09-27T07:53:00Z</td>\n",
       "      <td>-1.0</td>\n",
       "      <td>0.0109060007</td>\n",
       "      <td>-0.0023365252</td>\n",
       "      <td>0.0107435153</td>\n",
       "      <td>0.0088022218</td>\n",
       "      <td>-0.0061373288</td>\n",
       "    </tr>\n",
       "  </tbody>\n",
       "</table>\n",
       "<p>65 rows × 7 columns</p>\n",
       "</div>"
      ],
      "text/plain": [
       "                    time      z spectir_412nm  spectir_443nm spectir_490nm  \\\n",
       "1   2022-09-24T19:48:00Z  -20.0  0.0101908807  -0.0025727758  0.0098438424   \n",
       "2   2022-09-24T19:49:00Z  -20.0  0.0110217111  -0.0024225046  0.0095202022   \n",
       "3   2022-09-24T19:49:00Z  -19.0  0.0107561938  -0.0019058382  0.0109337775   \n",
       "4   2022-09-24T19:49:00Z  -18.0    0.01015056   -9.782131E-4  0.0106998298   \n",
       "5   2022-09-24T19:49:00Z  -17.0   0.010153518  -0.0013806467  0.0110340758   \n",
       "..                   ...    ...           ...            ...           ...   \n",
       "61  2022-09-27T07:53:00Z   -5.0  0.0109890935  -0.0027848665  0.0109971116   \n",
       "62  2022-09-27T07:53:00Z   -4.0  0.0106302893  -0.0027379761  0.0109159642   \n",
       "63  2022-09-27T07:53:00Z   -3.0   0.010466492  -0.0025219919  0.0104474309   \n",
       "64  2022-09-27T07:53:00Z   -2.0  0.0102009981  -0.0024456031  0.0102589015   \n",
       "65  2022-09-27T07:53:00Z   -1.0  0.0109060007  -0.0023365252  0.0107435153   \n",
       "\n",
       "   spectir_510nm  spectir_555nm  \n",
       "1     0.01055782   0.0105658025  \n",
       "2   0.0107170864   0.0132538303  \n",
       "3   0.0102653392   0.0173130681  \n",
       "4   0.0116734288   0.0241834617  \n",
       "5   0.0134186811   0.0360242548  \n",
       "..           ...            ...  \n",
       "61  0.0077280552  -0.0063751821  \n",
       "62  0.0078050457    -0.00624226  \n",
       "63   0.007653692  -0.0071475097  \n",
       "64  0.0077795183  -0.0065561451  \n",
       "65  0.0088022218  -0.0061373288  \n",
       "\n",
       "[65 rows x 7 columns]"
      ]
     },
     "execution_count": 139,
     "metadata": {},
     "output_type": "execute_result"
    }
   ],
   "source": [
    "#getting rid of second row bc multi index is not useful\n",
    "#cell 2 up for including 2nd row in header didn't work\n",
    "testdf.iloc[1]\n",
    "testdf['time'].iloc[0]\n",
    "testdf= testdf.drop(0)\n",
    "testdf #now doesn't have 2nd row as multi index"
   ]
  },
  {
   "cell_type": "code",
   "execution_count": 153,
   "id": "94b5f87e",
   "metadata": {},
   "outputs": [
    {
     "name": "stdout",
     "output_type": "stream",
     "text": [
      "time             datetime64[ns, UTC]\n",
      "z                            float64\n",
      "spectir_412nm                float64\n",
      "spectir_443nm                float64\n",
      "spectir_490nm                float64\n",
      "spectir_510nm                float64\n",
      "spectir_555nm                float64\n",
      "dtype: object\n"
     ]
    }
   ],
   "source": [
    "#THIS CELL IS IRRELEVANT\n",
    "\n",
    "#making sure dtypes/str s are correct for plotting: want datetime\n",
    "testdf[\"time\"]\n",
    "#yikes lets convert to datetime\n",
    "testdf['time'] = pd.to_datetime(testdf['time'])\n",
    "print(testdf.dtypes) #datetime-ification looks good here"
   ]
  },
  {
   "cell_type": "code",
   "execution_count": 154,
   "id": "6c13ce42",
   "metadata": {
    "scrolled": true
   },
   "outputs": [
    {
     "name": "stdout",
     "output_type": "stream",
     "text": [
      "time             datetime64[ns, UTC]\n",
      "z                            float64\n",
      "spectir_412nm                float64\n",
      "spectir_443nm                float64\n",
      "spectir_490nm                float64\n",
      "spectir_510nm                float64\n",
      "spectir_555nm                float64\n",
      "dtype: object\n"
     ]
    }
   ],
   "source": [
    "#THIS CELL IS IRRELEVANT\n",
    "\n",
    "#now to make the objects all floats in the rest of the cols\n",
    "testdf.iloc[1] #they are confirmed to be objects\n",
    "\n",
    "#for one column by name\n",
    "testdf['z'] = testdf['z'].astype(float)\n",
    "print(testdf.dtypes)\n",
    "\n",
    "#for all columns except specified \"time\"\n",
    "cols = testdf.columns.drop('time')\n",
    "testdf[cols] = testdf[cols].apply(pd.to_numeric) #errors='coerce' addtl arg if necessary\n",
    "\n",
    "#slay"
   ]
  },
  {
   "cell_type": "code",
   "execution_count": 162,
   "id": "463d61df",
   "metadata": {},
   "outputs": [
    {
     "name": "stdout",
     "output_type": "stream",
     "text": [
      "Line graph: \n"
     ]
    },
    {
     "data": {
      "image/png": "[encoded data removed]",
      "text/plain": [
       "<Figure size 432x288 with 1 Axes>"
      ]
     },
     "metadata": {
      "needs_background": "light"
     },
     "output_type": "display_data"
    },
    {
     "data": {
      "text/plain": [
       "<Figure size 1080x288 with 0 Axes>"
      ]
     },
     "metadata": {},
     "output_type": "display_data"
    },
    {
     "name": "stdout",
     "output_type": "stream",
     "text": [
      "Scatter Plot:  \n"
     ]
    },
    {
     "data": {
      "image/png": "[encoded data removed]",
      "text/plain": [
       "<Figure size 432x288 with 1 Axes>"
      ]
     },
     "metadata": {
      "needs_background": "light"
     },
     "output_type": "display_data"
    }
   ],
   "source": [
    "#plotting pd df with matplotlib\n",
    "\n",
    "# plotting a line graph\n",
    "print(\"Line graph: \")\n",
    "plt.plot(testdf[\"time\"], testdf[\"spectir_412nm\"],\"-b\")\n",
    "plt.plot(testdf[\"time\"], testdf[\"spectir_443nm\"],\"-k\")\n",
    "plt.plot(testdf[\"time\"], testdf[\"spectir_490nm\"],\"-c\")\n",
    "plt.plot(testdf[\"time\"], testdf[\"spectir_510nm\"],\"-r\")\n",
    "plt.plot(testdf[\"time\"], testdf[\"spectir_555nm\"],\"-y\")\n",
    "\n",
    "\n",
    "\n",
    "plt.figure().set_figwidth(15)\n",
    "\n",
    "plt.show()\n",
    "  \n",
    "# plotting a scatter plot\n",
    "print(\"Scatter Plot:  \")\n",
    "plt.scatter(testdf[\"time\"], testdf[\"spectir_490nm\"])\n",
    "plt.show()\n",
    "\n",
    "\n",
    "\n"
   ]
  },
  {
   "cell_type": "code",
   "execution_count": 6,
   "id": "533e8eea",
   "metadata": {},
   "outputs": [
    {
     "data": {
      "text/plain": [
       "('sw.nc', <http.client.HTTPMessage at 0x7fe6671dcd00>)"
      ]
     },
     "execution_count": 6,
     "metadata": {},
     "output_type": "execute_result"
    }
   ],
   "source": [
    "'''\n",
    "2023-01-17\n",
    "Following tutorial: Comparison of chlorophyll data from different sensors\n",
    "from https://github.com/oceanwatch/python-satellite-course/blob/master/OW_tutorial2.ipynb\n",
    "'''\n",
    "url='https://oceanwatch.pifsc.noaa.gov/erddap/griddap/sw_chla_monthly_2018_0.nc?chlor_a[(1997-10-16T12:00:00Z):1:(2010-10-16T12:00:00Z)][(25):1:(15)][(198):1:(208)]'\n",
    "urllib.request.urlretrieve(url, \"sw.nc\")"
   ]
  },
  {
   "cell_type": "code",
   "execution_count": 29,
   "id": "dc87da34",
   "metadata": {},
   "outputs": [],
   "source": [
    "sw_ds = xr.open_dataset('sw.nc',decode_cf=False)"
   ]
  },
  {
   "cell_type": "code",
   "execution_count": 9,
   "id": "96713a9d",
   "metadata": {},
   "outputs": [
    {
     "data": {
      "text/plain": [
       "(153, 121, 121)"
      ]
     },
     "execution_count": 9,
     "metadata": {},
     "output_type": "execute_result"
    }
   ],
   "source": [
    "sw_ds.data_vars\n",
    "sw_ds.chlor_a.shape"
   ]
  },
  {
   "cell_type": "code",
   "execution_count": 34,
   "id": "c2c0cb0c",
   "metadata": {},
   "outputs": [
    {
     "data": {
      "text/plain": [
       "'seconds since 1970-01-01T00:00:00Z'"
      ]
     },
     "execution_count": 34,
     "metadata": {},
     "output_type": "execute_result"
    }
   ],
   "source": [
    "sw_ds.time.units"
   ]
  },
  {
   "cell_type": "code",
   "execution_count": 30,
   "id": "c9ce4bfa",
   "metadata": {},
   "outputs": [],
   "source": [
    "swAVG=np.mean(sw_ds.chlor_a,axis=(1,2))\n",
    "\n",
    "swdates=nc.num2date(sw_ds.time,sw_ds.time.units) "
   ]
  },
  {
   "cell_type": "code",
   "execution_count": 31,
   "id": "47408a55",
   "metadata": {},
   "outputs": [],
   "source": [
    "sw_ds.close()"
   ]
  },
  {
   "cell_type": "code",
   "execution_count": 14,
   "id": "08e69985",
   "metadata": {},
   "outputs": [
    {
     "data": {
      "text/plain": [
       "('aq.nc', <http.client.HTTPMessage at 0x7fe6672076d0>)"
      ]
     },
     "execution_count": 14,
     "metadata": {},
     "output_type": "execute_result"
    }
   ],
   "source": [
    "# now using modis satellite\n",
    "url2='https://oceanwatch.pifsc.noaa.gov/erddap/griddap/aqua_chla_monthly_2018_0.nc?chlor_a[(2002-07-16T12:00:00Z):1:(2019-12-16T12:00:00Z)][(25):1:(15)][(198):1:(208)]'\n",
    "urllib.request.urlretrieve(url2, \"aq.nc\")"
   ]
  },
  {
   "cell_type": "code",
   "execution_count": 35,
   "id": "09df1879",
   "metadata": {},
   "outputs": [],
   "source": [
    "aq_ds = xr.open_dataset('aq.nc',decode_cf=False)\n",
    "aqAVG=np.mean(aq_ds.chlor_a,axis=(1,2))\n",
    "\n",
    "aqdates=nc.num2date(aq_ds.time,aq_ds.time.units)\n"
   ]
  },
  {
   "cell_type": "code",
   "execution_count": 18,
   "id": "02a8653c",
   "metadata": {},
   "outputs": [
    {
     "data": {
      "text/plain": [
       "(210, 241, 241)"
      ]
     },
     "execution_count": 18,
     "metadata": {},
     "output_type": "execute_result"
    }
   ],
   "source": [
    "aq_ds.chlor_a.shape"
   ]
  },
  {
   "cell_type": "code",
   "execution_count": 36,
   "id": "b6a8a608",
   "metadata": {},
   "outputs": [],
   "source": [
    "aq_ds.close()"
   ]
  },
  {
   "cell_type": "code",
   "execution_count": 20,
   "id": "3f349e77",
   "metadata": {},
   "outputs": [
    {
     "data": {
      "text/plain": [
       "('snpp.nc', <http.client.HTTPMessage at 0x7fe6526168b0>)"
      ]
     },
     "execution_count": 20,
     "metadata": {},
     "output_type": "execute_result"
    }
   ],
   "source": [
    "#now for monthly VIIRS data\n",
    "url3='https://oceanwatch.pifsc.noaa.gov/erddap/griddap/noaa_snpp_chla_monthly.nc?chlor_a[(2012-01-02T12:00:00Z):1:(2019-12-01T12:00:00Z)][(25):1:(15)][(198):1:(208)]'\n",
    "urllib.request.urlretrieve(url3, \"snpp.nc\")"
   ]
  },
  {
   "cell_type": "code",
   "execution_count": 37,
   "id": "9a3fd827",
   "metadata": {},
   "outputs": [],
   "source": [
    "snpp_ds = xr.open_dataset('snpp.nc',decode_cf=False)\n",
    "#taking monthly mean\n",
    "snppAVG=np.mean(snpp_ds.chlor_a,axis=(1,2))\n",
    "\n",
    "snppdates=nc.num2date(snpp_ds.time,snpp_ds.time.units) "
   ]
  },
  {
   "cell_type": "code",
   "execution_count": 38,
   "id": "e7236dda",
   "metadata": {},
   "outputs": [],
   "source": [
    "snpp_ds.close()"
   ]
  },
  {
   "cell_type": "code",
   "execution_count": 23,
   "id": "fa6e0c7e",
   "metadata": {},
   "outputs": [
    {
     "data": {
      "text/plain": [
       "('cci.nc', <http.client.HTTPMessage at 0x7fe652607190>)"
      ]
     },
     "execution_count": 23,
     "metadata": {},
     "output_type": "execute_result"
    }
   ],
   "source": [
    "#keeping going w the tutorial: hope to get a chart\n",
    "url4='https://oceanwatch.pifsc.noaa.gov/erddap/griddap/esa-cci-chla-monthly-v4-2.nc?chlor_a[(1997-09-04):1:(2019-12-01T00:00:00Z)][(25):1:(15)][(198):1:(208)]'\n",
    "urllib.request.urlretrieve(url4, \"cci.nc\")"
   ]
  },
  {
   "cell_type": "code",
   "execution_count": 39,
   "id": "958d94eb",
   "metadata": {},
   "outputs": [],
   "source": [
    "cci_ds = xr.open_dataset('cci.nc',decode_cf=False)\n",
    "cciAVG=np.mean(cci_ds.chlor_a,axis=(1,2))\n",
    "ccidates=nc.num2date(cci_ds.time,cci_ds.time.units) "
   ]
  },
  {
   "cell_type": "code",
   "execution_count": 40,
   "id": "4525ddea",
   "metadata": {},
   "outputs": [],
   "source": [
    "cci_ds.close()"
   ]
  },
  {
   "cell_type": "code",
   "execution_count": 41,
   "id": "37d026a5",
   "metadata": {},
   "outputs": [
    {
     "ename": "TypeError",
     "evalue": "float() argument must be a string or a number, not 'cftime._cftime.DatetimeGregorian'",
     "output_type": "error",
     "traceback": [
      "\u001b[0;31m---------------------------------------------------------------------------\u001b[0m",
      "\u001b[0;31mTypeError\u001b[0m                                 Traceback (most recent call last)",
      "\u001b[0;32m<ipython-input-41-af21edbba5af>\u001b[0m in \u001b[0;36m<module>\u001b[0;34m\u001b[0m\n\u001b[1;32m      1\u001b[0m \u001b[0mplt\u001b[0m\u001b[0;34m.\u001b[0m\u001b[0mfigure\u001b[0m\u001b[0;34m(\u001b[0m\u001b[0mfigsize\u001b[0m\u001b[0;34m=\u001b[0m\u001b[0;34m(\u001b[0m\u001b[0;36m12\u001b[0m\u001b[0;34m,\u001b[0m\u001b[0;36m5\u001b[0m\u001b[0;34m)\u001b[0m\u001b[0;34m)\u001b[0m\u001b[0;34m\u001b[0m\u001b[0;34m\u001b[0m\u001b[0m\n\u001b[0;32m----> 2\u001b[0;31m \u001b[0mplt\u001b[0m\u001b[0;34m.\u001b[0m\u001b[0mplot\u001b[0m\u001b[0;34m(\u001b[0m\u001b[0mswdates\u001b[0m\u001b[0;34m,\u001b[0m\u001b[0mswAVG\u001b[0m\u001b[0;34m,\u001b[0m\u001b[0mlabel\u001b[0m\u001b[0;34m=\u001b[0m\u001b[0;34m'sw'\u001b[0m\u001b[0;34m,\u001b[0m\u001b[0mc\u001b[0m\u001b[0;34m=\u001b[0m\u001b[0;34m'red'\u001b[0m\u001b[0;34m,\u001b[0m\u001b[0mmarker\u001b[0m\u001b[0;34m=\u001b[0m\u001b[0;34m'.'\u001b[0m\u001b[0;34m,\u001b[0m\u001b[0mlinestyle\u001b[0m\u001b[0;34m=\u001b[0m\u001b[0;34m'-'\u001b[0m\u001b[0;34m)\u001b[0m\u001b[0;34m\u001b[0m\u001b[0;34m\u001b[0m\u001b[0m\n\u001b[0m\u001b[1;32m      3\u001b[0m \u001b[0mplt\u001b[0m\u001b[0;34m.\u001b[0m\u001b[0mplot\u001b[0m\u001b[0;34m(\u001b[0m\u001b[0maqdates\u001b[0m\u001b[0;34m,\u001b[0m\u001b[0maqAVG\u001b[0m\u001b[0;34m,\u001b[0m\u001b[0mlabel\u001b[0m\u001b[0;34m=\u001b[0m\u001b[0;34m'aq'\u001b[0m\u001b[0;34m,\u001b[0m\u001b[0mc\u001b[0m\u001b[0;34m=\u001b[0m\u001b[0;34m'blue'\u001b[0m\u001b[0;34m,\u001b[0m\u001b[0mmarker\u001b[0m\u001b[0;34m=\u001b[0m\u001b[0;34m'.'\u001b[0m\u001b[0;34m,\u001b[0m\u001b[0mlinestyle\u001b[0m\u001b[0;34m=\u001b[0m\u001b[0;34m'-'\u001b[0m\u001b[0;34m)\u001b[0m\u001b[0;34m\u001b[0m\u001b[0;34m\u001b[0m\u001b[0m\n\u001b[1;32m      4\u001b[0m \u001b[0mplt\u001b[0m\u001b[0;34m.\u001b[0m\u001b[0mplot\u001b[0m\u001b[0;34m(\u001b[0m\u001b[0msnppdates\u001b[0m\u001b[0;34m,\u001b[0m\u001b[0msnppAVG\u001b[0m\u001b[0;34m,\u001b[0m\u001b[0mlabel\u001b[0m\u001b[0;34m=\u001b[0m\u001b[0;34m'snpp'\u001b[0m\u001b[0;34m,\u001b[0m\u001b[0mc\u001b[0m\u001b[0;34m=\u001b[0m\u001b[0;34m'green'\u001b[0m\u001b[0;34m,\u001b[0m\u001b[0mmarker\u001b[0m\u001b[0;34m=\u001b[0m\u001b[0;34m'.'\u001b[0m\u001b[0;34m,\u001b[0m\u001b[0mlinestyle\u001b[0m\u001b[0;34m=\u001b[0m\u001b[0;34m'-'\u001b[0m\u001b[0;34m)\u001b[0m\u001b[0;34m\u001b[0m\u001b[0;34m\u001b[0m\u001b[0m\n\u001b[1;32m      5\u001b[0m \u001b[0mplt\u001b[0m\u001b[0;34m.\u001b[0m\u001b[0mylabel\u001b[0m\u001b[0;34m(\u001b[0m\u001b[0;34m'Chl-a (mg/m^3)'\u001b[0m\u001b[0;34m)\u001b[0m\u001b[0;34m\u001b[0m\u001b[0;34m\u001b[0m\u001b[0m\n",
      "\u001b[0;32m/Applications/anaconda3/lib/python3.8/site-packages/matplotlib/pyplot.py\u001b[0m in \u001b[0;36mplot\u001b[0;34m(scalex, scaley, data, *args, **kwargs)\u001b[0m\n\u001b[1;32m   2838\u001b[0m \u001b[0;34m@\u001b[0m\u001b[0m_copy_docstring_and_deprecators\u001b[0m\u001b[0;34m(\u001b[0m\u001b[0mAxes\u001b[0m\u001b[0;34m.\u001b[0m\u001b[0mplot\u001b[0m\u001b[0;34m)\u001b[0m\u001b[0;34m\u001b[0m\u001b[0;34m\u001b[0m\u001b[0m\n\u001b[1;32m   2839\u001b[0m \u001b[0;32mdef\u001b[0m \u001b[0mplot\u001b[0m\u001b[0;34m(\u001b[0m\u001b[0;34m*\u001b[0m\u001b[0margs\u001b[0m\u001b[0;34m,\u001b[0m \u001b[0mscalex\u001b[0m\u001b[0;34m=\u001b[0m\u001b[0;32mTrue\u001b[0m\u001b[0;34m,\u001b[0m \u001b[0mscaley\u001b[0m\u001b[0;34m=\u001b[0m\u001b[0;32mTrue\u001b[0m\u001b[0;34m,\u001b[0m \u001b[0mdata\u001b[0m\u001b[0;34m=\u001b[0m\u001b[0;32mNone\u001b[0m\u001b[0;34m,\u001b[0m \u001b[0;34m**\u001b[0m\u001b[0mkwargs\u001b[0m\u001b[0;34m)\u001b[0m\u001b[0;34m:\u001b[0m\u001b[0;34m\u001b[0m\u001b[0;34m\u001b[0m\u001b[0m\n\u001b[0;32m-> 2840\u001b[0;31m     return gca().plot(\n\u001b[0m\u001b[1;32m   2841\u001b[0m         \u001b[0;34m*\u001b[0m\u001b[0margs\u001b[0m\u001b[0;34m,\u001b[0m \u001b[0mscalex\u001b[0m\u001b[0;34m=\u001b[0m\u001b[0mscalex\u001b[0m\u001b[0;34m,\u001b[0m \u001b[0mscaley\u001b[0m\u001b[0;34m=\u001b[0m\u001b[0mscaley\u001b[0m\u001b[0;34m,\u001b[0m\u001b[0;34m\u001b[0m\u001b[0;34m\u001b[0m\u001b[0m\n\u001b[1;32m   2842\u001b[0m         **({\"data\": data} if data is not None else {}), **kwargs)\n",
      "\u001b[0;32m/Applications/anaconda3/lib/python3.8/site-packages/matplotlib/axes/_axes.py\u001b[0m in \u001b[0;36mplot\u001b[0;34m(self, scalex, scaley, data, *args, **kwargs)\u001b[0m\n\u001b[1;32m   1743\u001b[0m         \u001b[0mlines\u001b[0m \u001b[0;34m=\u001b[0m \u001b[0;34m[\u001b[0m\u001b[0;34m*\u001b[0m\u001b[0mself\u001b[0m\u001b[0;34m.\u001b[0m\u001b[0m_get_lines\u001b[0m\u001b[0;34m(\u001b[0m\u001b[0;34m*\u001b[0m\u001b[0margs\u001b[0m\u001b[0;34m,\u001b[0m \u001b[0mdata\u001b[0m\u001b[0;34m=\u001b[0m\u001b[0mdata\u001b[0m\u001b[0;34m,\u001b[0m \u001b[0;34m**\u001b[0m\u001b[0mkwargs\u001b[0m\u001b[0;34m)\u001b[0m\u001b[0;34m]\u001b[0m\u001b[0;34m\u001b[0m\u001b[0;34m\u001b[0m\u001b[0m\n\u001b[1;32m   1744\u001b[0m         \u001b[0;32mfor\u001b[0m \u001b[0mline\u001b[0m \u001b[0;32min\u001b[0m \u001b[0mlines\u001b[0m\u001b[0;34m:\u001b[0m\u001b[0;34m\u001b[0m\u001b[0;34m\u001b[0m\u001b[0m\n\u001b[0;32m-> 1745\u001b[0;31m             \u001b[0mself\u001b[0m\u001b[0;34m.\u001b[0m\u001b[0madd_line\u001b[0m\u001b[0;34m(\u001b[0m\u001b[0mline\u001b[0m\u001b[0;34m)\u001b[0m\u001b[0;34m\u001b[0m\u001b[0;34m\u001b[0m\u001b[0m\n\u001b[0m\u001b[1;32m   1746\u001b[0m         \u001b[0mself\u001b[0m\u001b[0;34m.\u001b[0m\u001b[0m_request_autoscale_view\u001b[0m\u001b[0;34m(\u001b[0m\u001b[0mscalex\u001b[0m\u001b[0;34m=\u001b[0m\u001b[0mscalex\u001b[0m\u001b[0;34m,\u001b[0m \u001b[0mscaley\u001b[0m\u001b[0;34m=\u001b[0m\u001b[0mscaley\u001b[0m\u001b[0;34m)\u001b[0m\u001b[0;34m\u001b[0m\u001b[0;34m\u001b[0m\u001b[0m\n\u001b[1;32m   1747\u001b[0m         \u001b[0;32mreturn\u001b[0m \u001b[0mlines\u001b[0m\u001b[0;34m\u001b[0m\u001b[0;34m\u001b[0m\u001b[0m\n",
      "\u001b[0;32m/Applications/anaconda3/lib/python3.8/site-packages/matplotlib/axes/_base.py\u001b[0m in \u001b[0;36madd_line\u001b[0;34m(self, line)\u001b[0m\n\u001b[1;32m   1962\u001b[0m             \u001b[0mline\u001b[0m\u001b[0;34m.\u001b[0m\u001b[0mset_clip_path\u001b[0m\u001b[0;34m(\u001b[0m\u001b[0mself\u001b[0m\u001b[0;34m.\u001b[0m\u001b[0mpatch\u001b[0m\u001b[0;34m)\u001b[0m\u001b[0;34m\u001b[0m\u001b[0;34m\u001b[0m\u001b[0m\n\u001b[1;32m   1963\u001b[0m \u001b[0;34m\u001b[0m\u001b[0m\n\u001b[0;32m-> 1964\u001b[0;31m         \u001b[0mself\u001b[0m\u001b[0;34m.\u001b[0m\u001b[0m_update_line_limits\u001b[0m\u001b[0;34m(\u001b[0m\u001b[0mline\u001b[0m\u001b[0;34m)\u001b[0m\u001b[0;34m\u001b[0m\u001b[0;34m\u001b[0m\u001b[0m\n\u001b[0m\u001b[1;32m   1965\u001b[0m         \u001b[0;32mif\u001b[0m \u001b[0;32mnot\u001b[0m \u001b[0mline\u001b[0m\u001b[0;34m.\u001b[0m\u001b[0mget_label\u001b[0m\u001b[0;34m(\u001b[0m\u001b[0;34m)\u001b[0m\u001b[0;34m:\u001b[0m\u001b[0;34m\u001b[0m\u001b[0;34m\u001b[0m\u001b[0m\n\u001b[1;32m   1966\u001b[0m             \u001b[0mline\u001b[0m\u001b[0;34m.\u001b[0m\u001b[0mset_label\u001b[0m\u001b[0;34m(\u001b[0m\u001b[0;34m'_line%d'\u001b[0m \u001b[0;34m%\u001b[0m \u001b[0mlen\u001b[0m\u001b[0;34m(\u001b[0m\u001b[0mself\u001b[0m\u001b[0;34m.\u001b[0m\u001b[0mlines\u001b[0m\u001b[0;34m)\u001b[0m\u001b[0;34m)\u001b[0m\u001b[0;34m\u001b[0m\u001b[0;34m\u001b[0m\u001b[0m\n",
      "\u001b[0;32m/Applications/anaconda3/lib/python3.8/site-packages/matplotlib/axes/_base.py\u001b[0m in \u001b[0;36m_update_line_limits\u001b[0;34m(self, line)\u001b[0m\n\u001b[1;32m   1984\u001b[0m         \u001b[0mFigures\u001b[0m \u001b[0mout\u001b[0m \u001b[0mthe\u001b[0m \u001b[0mdata\u001b[0m \u001b[0mlimit\u001b[0m \u001b[0mof\u001b[0m \u001b[0mthe\u001b[0m \u001b[0mgiven\u001b[0m \u001b[0mline\u001b[0m\u001b[0;34m,\u001b[0m \u001b[0mupdating\u001b[0m \u001b[0mself\u001b[0m\u001b[0;34m.\u001b[0m\u001b[0mdataLim\u001b[0m\u001b[0;34m.\u001b[0m\u001b[0;34m\u001b[0m\u001b[0;34m\u001b[0m\u001b[0m\n\u001b[1;32m   1985\u001b[0m         \"\"\"\n\u001b[0;32m-> 1986\u001b[0;31m         \u001b[0mpath\u001b[0m \u001b[0;34m=\u001b[0m \u001b[0mline\u001b[0m\u001b[0;34m.\u001b[0m\u001b[0mget_path\u001b[0m\u001b[0;34m(\u001b[0m\u001b[0;34m)\u001b[0m\u001b[0;34m\u001b[0m\u001b[0;34m\u001b[0m\u001b[0m\n\u001b[0m\u001b[1;32m   1987\u001b[0m         \u001b[0;32mif\u001b[0m \u001b[0mpath\u001b[0m\u001b[0;34m.\u001b[0m\u001b[0mvertices\u001b[0m\u001b[0;34m.\u001b[0m\u001b[0msize\u001b[0m \u001b[0;34m==\u001b[0m \u001b[0;36m0\u001b[0m\u001b[0;34m:\u001b[0m\u001b[0;34m\u001b[0m\u001b[0;34m\u001b[0m\u001b[0m\n\u001b[1;32m   1988\u001b[0m             \u001b[0;32mreturn\u001b[0m\u001b[0;34m\u001b[0m\u001b[0;34m\u001b[0m\u001b[0m\n",
      "\u001b[0;32m/Applications/anaconda3/lib/python3.8/site-packages/matplotlib/lines.py\u001b[0m in \u001b[0;36mget_path\u001b[0;34m(self)\u001b[0m\n\u001b[1;32m   1009\u001b[0m         \"\"\"\n\u001b[1;32m   1010\u001b[0m         \u001b[0;32mif\u001b[0m \u001b[0mself\u001b[0m\u001b[0;34m.\u001b[0m\u001b[0m_invalidy\u001b[0m \u001b[0;32mor\u001b[0m \u001b[0mself\u001b[0m\u001b[0;34m.\u001b[0m\u001b[0m_invalidx\u001b[0m\u001b[0;34m:\u001b[0m\u001b[0;34m\u001b[0m\u001b[0;34m\u001b[0m\u001b[0m\n\u001b[0;32m-> 1011\u001b[0;31m             \u001b[0mself\u001b[0m\u001b[0;34m.\u001b[0m\u001b[0mrecache\u001b[0m\u001b[0;34m(\u001b[0m\u001b[0;34m)\u001b[0m\u001b[0;34m\u001b[0m\u001b[0;34m\u001b[0m\u001b[0m\n\u001b[0m\u001b[1;32m   1012\u001b[0m         \u001b[0;32mreturn\u001b[0m \u001b[0mself\u001b[0m\u001b[0;34m.\u001b[0m\u001b[0m_path\u001b[0m\u001b[0;34m\u001b[0m\u001b[0;34m\u001b[0m\u001b[0m\n\u001b[1;32m   1013\u001b[0m \u001b[0;34m\u001b[0m\u001b[0m\n",
      "\u001b[0;32m/Applications/anaconda3/lib/python3.8/site-packages/matplotlib/lines.py\u001b[0m in \u001b[0;36mrecache\u001b[0;34m(self, always)\u001b[0m\n\u001b[1;32m    651\u001b[0m         \u001b[0;32mif\u001b[0m \u001b[0malways\u001b[0m \u001b[0;32mor\u001b[0m \u001b[0mself\u001b[0m\u001b[0;34m.\u001b[0m\u001b[0m_invalidx\u001b[0m\u001b[0;34m:\u001b[0m\u001b[0;34m\u001b[0m\u001b[0;34m\u001b[0m\u001b[0m\n\u001b[1;32m    652\u001b[0m             \u001b[0mxconv\u001b[0m \u001b[0;34m=\u001b[0m \u001b[0mself\u001b[0m\u001b[0;34m.\u001b[0m\u001b[0mconvert_xunits\u001b[0m\u001b[0;34m(\u001b[0m\u001b[0mself\u001b[0m\u001b[0;34m.\u001b[0m\u001b[0m_xorig\u001b[0m\u001b[0;34m)\u001b[0m\u001b[0;34m\u001b[0m\u001b[0;34m\u001b[0m\u001b[0m\n\u001b[0;32m--> 653\u001b[0;31m             \u001b[0mx\u001b[0m \u001b[0;34m=\u001b[0m \u001b[0m_to_unmasked_float_array\u001b[0m\u001b[0;34m(\u001b[0m\u001b[0mxconv\u001b[0m\u001b[0;34m)\u001b[0m\u001b[0;34m.\u001b[0m\u001b[0mravel\u001b[0m\u001b[0;34m(\u001b[0m\u001b[0;34m)\u001b[0m\u001b[0;34m\u001b[0m\u001b[0;34m\u001b[0m\u001b[0m\n\u001b[0m\u001b[1;32m    654\u001b[0m         \u001b[0;32melse\u001b[0m\u001b[0;34m:\u001b[0m\u001b[0;34m\u001b[0m\u001b[0;34m\u001b[0m\u001b[0m\n\u001b[1;32m    655\u001b[0m             \u001b[0mx\u001b[0m \u001b[0;34m=\u001b[0m \u001b[0mself\u001b[0m\u001b[0;34m.\u001b[0m\u001b[0m_x\u001b[0m\u001b[0;34m\u001b[0m\u001b[0;34m\u001b[0m\u001b[0m\n",
      "\u001b[0;32m/Applications/anaconda3/lib/python3.8/site-packages/matplotlib/cbook/__init__.py\u001b[0m in \u001b[0;36m_to_unmasked_float_array\u001b[0;34m(x)\u001b[0m\n\u001b[1;32m   1287\u001b[0m         \u001b[0;32mreturn\u001b[0m \u001b[0mnp\u001b[0m\u001b[0;34m.\u001b[0m\u001b[0mma\u001b[0m\u001b[0;34m.\u001b[0m\u001b[0masarray\u001b[0m\u001b[0;34m(\u001b[0m\u001b[0mx\u001b[0m\u001b[0;34m,\u001b[0m \u001b[0mfloat\u001b[0m\u001b[0;34m)\u001b[0m\u001b[0;34m.\u001b[0m\u001b[0mfilled\u001b[0m\u001b[0;34m(\u001b[0m\u001b[0mnp\u001b[0m\u001b[0;34m.\u001b[0m\u001b[0mnan\u001b[0m\u001b[0;34m)\u001b[0m\u001b[0;34m\u001b[0m\u001b[0;34m\u001b[0m\u001b[0m\n\u001b[1;32m   1288\u001b[0m     \u001b[0;32melse\u001b[0m\u001b[0;34m:\u001b[0m\u001b[0;34m\u001b[0m\u001b[0;34m\u001b[0m\u001b[0m\n\u001b[0;32m-> 1289\u001b[0;31m         \u001b[0;32mreturn\u001b[0m \u001b[0mnp\u001b[0m\u001b[0;34m.\u001b[0m\u001b[0masarray\u001b[0m\u001b[0;34m(\u001b[0m\u001b[0mx\u001b[0m\u001b[0;34m,\u001b[0m \u001b[0mfloat\u001b[0m\u001b[0;34m)\u001b[0m\u001b[0;34m\u001b[0m\u001b[0;34m\u001b[0m\u001b[0m\n\u001b[0m\u001b[1;32m   1290\u001b[0m \u001b[0;34m\u001b[0m\u001b[0m\n\u001b[1;32m   1291\u001b[0m \u001b[0;34m\u001b[0m\u001b[0m\n",
      "\u001b[0;32m/Applications/anaconda3/lib/python3.8/site-packages/numpy/core/_asarray.py\u001b[0m in \u001b[0;36masarray\u001b[0;34m(a, dtype, order, like)\u001b[0m\n\u001b[1;32m    100\u001b[0m         \u001b[0;32mreturn\u001b[0m \u001b[0m_asarray_with_like\u001b[0m\u001b[0;34m(\u001b[0m\u001b[0ma\u001b[0m\u001b[0;34m,\u001b[0m \u001b[0mdtype\u001b[0m\u001b[0;34m=\u001b[0m\u001b[0mdtype\u001b[0m\u001b[0;34m,\u001b[0m \u001b[0morder\u001b[0m\u001b[0;34m=\u001b[0m\u001b[0morder\u001b[0m\u001b[0;34m,\u001b[0m \u001b[0mlike\u001b[0m\u001b[0;34m=\u001b[0m\u001b[0mlike\u001b[0m\u001b[0;34m)\u001b[0m\u001b[0;34m\u001b[0m\u001b[0;34m\u001b[0m\u001b[0m\n\u001b[1;32m    101\u001b[0m \u001b[0;34m\u001b[0m\u001b[0m\n\u001b[0;32m--> 102\u001b[0;31m     \u001b[0;32mreturn\u001b[0m \u001b[0marray\u001b[0m\u001b[0;34m(\u001b[0m\u001b[0ma\u001b[0m\u001b[0;34m,\u001b[0m \u001b[0mdtype\u001b[0m\u001b[0;34m,\u001b[0m \u001b[0mcopy\u001b[0m\u001b[0;34m=\u001b[0m\u001b[0;32mFalse\u001b[0m\u001b[0;34m,\u001b[0m \u001b[0morder\u001b[0m\u001b[0;34m=\u001b[0m\u001b[0morder\u001b[0m\u001b[0;34m)\u001b[0m\u001b[0;34m\u001b[0m\u001b[0;34m\u001b[0m\u001b[0m\n\u001b[0m\u001b[1;32m    103\u001b[0m \u001b[0;34m\u001b[0m\u001b[0m\n\u001b[1;32m    104\u001b[0m \u001b[0;34m\u001b[0m\u001b[0m\n",
      "\u001b[0;31mTypeError\u001b[0m: float() argument must be a string or a number, not 'cftime._cftime.DatetimeGregorian'"
     ]
    },
    {
     "data": {
      "image/png": "[encoded data removed]",
      "text/plain": [
       "<Figure size 864x360 with 1 Axes>"
      ]
     },
     "metadata": {
      "needs_background": "light"
     },
     "output_type": "display_data"
    }
   ],
   "source": [
    "plt.figure(figsize=(12,5)) \n",
    "plt.plot(swdates,swAVG,label='sw',c='red',marker='.',linestyle='-')\n",
    "plt.plot(aqdates,aqAVG,label='aq',c='blue',marker='.',linestyle='-')\n",
    "plt.plot(snppdates,snppAVG,label='snpp',c='green',marker='.',linestyle='-')\n",
    "plt.ylabel('Chl-a (mg/m^3)')\n",
    "plt.legend()"
   ]
  },
  {
   "cell_type": "code",
   "execution_count": 19,
   "id": "95e0baeb",
   "metadata": {
    "scrolled": true
   },
   "outputs": [
    {
     "data": {
      "text/plain": [
       "\"\\nplt.figure(figsize=(12,5)) \\nplt.plot(ccidates,cciAVG, label='cci',c='black')\\nplt.scatter(swdates,swAVG,label='sw',c='red')\\nplt.scatter(aqdates,aqAVG,label='aq',c='blue')\\nplt.scatter(snppdates,snppAVG,label='snpp',c='green')\\nplt.ylabel('Chl-a (mg/m^3)')\\nplt.legend()\\n\""
      ]
     },
     "execution_count": 19,
     "metadata": {},
     "output_type": "execute_result"
    }
   ],
   "source": [
    "\"\"\"\n",
    "plt.figure(figsize=(12,5)) \n",
    "plt.plot(ccidates,cciAVG, label='cci',c='black')\n",
    "plt.scatter(swdates,swAVG,label='sw',c='red')\n",
    "plt.scatter(aqdates,aqAVG,label='aq',c='blue')\n",
    "plt.scatter(snppdates,snppAVG,label='snpp',c='green')\n",
    "plt.ylabel('Chl-a (mg/m^3)')\n",
    "plt.legend()\n",
    "\"\"\""
   ]
  },
  {
   "cell_type": "code",
   "execution_count": 25,
   "id": "676fd269",
   "metadata": {},
   "outputs": [
    {
     "name": "stdout",
     "output_type": "stream",
     "text": [
      "http://erddap.dataexplorer.oceanobservatories.org/erddap/tabledap/ooi-ce01issp-sp001-07-spkirj000.htmlTable?time%2Cz\n",
      "     station            time (UTC)  atmp (degree_C)\n",
      "0      41001  2020-12-29T00:00:00Z             17.3\n",
      "1      41001  2020-12-30T00:00:00Z             13.7\n",
      "2      41001  2020-12-31T00:00:00Z             15.9\n",
      "3      41004  2020-12-29T00:00:00Z             18.2\n",
      "4      41004  2020-12-30T00:00:00Z             17.1\n",
      "...      ...                   ...              ...\n",
      "2009   YKRV2  2020-12-30T00:00:00Z              NaN\n",
      "2010   YKRV2  2020-12-31T00:00:00Z              8.1\n",
      "2011   YKTV2  2020-12-29T00:00:00Z             11.3\n",
      "2012   YKTV2  2020-12-30T00:00:00Z              NaN\n",
      "2013   YKTV2  2020-12-31T00:00:00Z              7.1\n",
      "\n",
      "[2014 rows x 3 columns]\n",
      "<erddapClient.ERDDAP_Tabledap>\n",
      "Title:       Coastal Endurance: Oregon Inshore Surface Piercing Profiler Mooring: Surface Piercing Profiler: Spectral Irradiance\n",
      "Server URL:  http://erddap.dataexplorer.oceanobservatories.org/erddap\n",
      "Dataset ID:  ooi-ce01issp-sp001-07-spkirj000\n",
      "Generated URL: http://erddap.dataexplorer.oceanobservatories.org/erddap/tabledap/ooi-ce01issp-sp001-07-spkirj000.htmlTable?time%2Cz\n",
      "Variables: \n",
      "  time (double) \n",
      "    Standard name: time \n",
      "    Units:         seconds since 1970-01-01T00:00:00Z \n",
      "  latitude (double) \n",
      "    Standard name: latitude \n",
      "    Units:         degrees_north \n",
      "  longitude (double) \n",
      "    Standard name: longitude \n",
      "    Units:         degrees_east \n",
      "  z (double) \n",
      "    Standard name: altitude \n",
      "    Units:         m \n",
      "  spectir_412nm (double) \n",
      "    Standard name: spectir \n",
      "    Units:         microW.cm-2.nm-1 \n",
      "  spectir_412nm_qc_agg (int) \n",
      "    Standard name: aggregate_quality_flag \n",
      "  spectir_412nm_qc_tests (int) \n",
      "    Standard name: spectir quality_flag \n",
      "  spectir_443nm (double) \n",
      "    Standard name: spectir \n",
      "    Units:         microW.cm-2.nm-1 \n",
      "  spectir_443nm_qc_agg (int) \n",
      "    Standard name: aggregate_quality_flag \n",
      "  spectir_443nm_qc_tests (int) \n",
      "    Standard name: spectir quality_flag \n",
      "  spectir_490nm (double) \n",
      "    Standard name: spectir \n",
      "    Units:         microW.cm-2.nm-1 \n",
      "  spectir_490nm_qc_agg (int) \n",
      "    Standard name: aggregate_quality_flag \n",
      "  spectir_490nm_qc_tests (int) \n",
      "    Standard name: spectir quality_flag \n",
      "  spectir_510nm (double) \n",
      "    Standard name: spectir \n",
      "    Units:         microW.cm-2.nm-1 \n",
      "  spectir_510nm_qc_agg (int) \n",
      "    Standard name: aggregate_quality_flag \n",
      "  spectir_510nm_qc_tests (int) \n",
      "    Standard name: spectir quality_flag \n",
      "  spectir_555nm (double) \n",
      "    Standard name: spectir \n",
      "    Units:         microW.cm-2.nm-1 \n",
      "  spectir_555nm_qc_agg (int) \n",
      "    Standard name: aggregate_quality_flag \n",
      "  spectir_555nm_qc_tests (int) \n",
      "    Standard name: spectir quality_flag \n",
      "  spectir_620nm (double) \n",
      "    Standard name: spectir \n",
      "    Units:         microW.cm-2.nm-1 \n",
      "  spectir_620nm_qc_agg (int) \n",
      "    Standard name: aggregate_quality_flag \n",
      "  spectir_620nm_qc_tests (int) \n",
      "    Standard name: spectir quality_flag \n",
      "  spectir_683nm (double) \n",
      "    Standard name: spectir \n",
      "    Units:         microW.cm-2.nm-1 \n",
      "  spectir_683nm_qc_agg (int) \n",
      "    Standard name: aggregate_quality_flag \n",
      "  spectir_683nm_qc_tests (int) \n",
      "    Standard name: spectir quality_flag \n",
      "  sea_water_pressure_profiler_depth_enabled (double) \n",
      "    Standard name: sea_water_pressure \n",
      "    Units:         decibars \n",
      "  sea_water_pressure_profiler_depth_enabled_qc_agg (int) \n",
      "    Standard name: aggregate_quality_flag \n",
      "  sea_water_pressure_profiler_depth_enabled_qc_tests (int) \n",
      "    Standard name: sea_water_pressure quality_flag \n",
      "  station (String) \n"
     ]
    }
   ],
   "source": [
    "remote = ERDDAP_Tabledap('https://coastwatch.pfeg.noaa.gov/erddap', 'cwwcNDBCMet')\n",
    "test_remote = ERDDAP_Tabledap('http://erddap.dataexplorer.oceanobservatories.org/erddap','ooi-ce01issp-sp001-07-spkirj000')\n",
    "test_remote.setResultVariables(['time','z'])\n",
    "print(test_remote.getURL('htmlTable'))\n",
    "\n",
    "responseCSV = (\n",
    "    remote.setResultVariables(['station','time','atmp'])\n",
    "            .addConstraint('time>=2020-12-29T00:00:00Z')\n",
    "            .addConstraint('time<=2020-12-31T00:00:00Z')\n",
    "            .orderByClosest(['station','time/1day'])\n",
    "            .getDataFrame()\n",
    ")\n",
    "print(responseCSV)\n",
    "print(test_remote)"
   ]
  }
 ],
 "metadata": {
  "kernelspec": {
   "display_name": "Python 3",
   "language": "python",
   "name": "python3"
  },
  "language_info": {
   "codemirror_mode": {
    "name": "ipython",
    "version": 3
   },
   "file_extension": ".py",
   "mimetype": "text/x-python",
   "name": "python",
   "nbconvert_exporter": "python",
   "pygments_lexer": "ipython3",
   "version": "3.8.8"
  }
 },
 "nbformat": 4,
 "nbformat_minor": 5
}
